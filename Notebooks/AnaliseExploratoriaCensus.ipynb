{
 "cells": [
  {
   "cell_type": "markdown",
   "id": "82764ba8",
   "metadata": {},
   "source": [
    "# Análise exploratória base Census Income."
   ]
  },
  {
   "cell_type": "code",
   "execution_count": 1,
   "id": "86b89c02",
   "metadata": {},
   "outputs": [],
   "source": [
    "#Importando as bibliotecas\n",
    "import pandas as pd\n",
    "import matplotlib.pyplot as plt\n",
    "import numpy as np\n",
    "import seaborn as sns\n",
    "import colorsys\n",
    "plt.style.use('seaborn-talk')"
   ]
  },
  {
   "cell_type": "code",
   "execution_count": 2,
   "id": "b94df678",
   "metadata": {},
   "outputs": [
    {
     "data": {
      "text/html": [
       "<div>\n",
       "<style scoped>\n",
       "    .dataframe tbody tr th:only-of-type {\n",
       "        vertical-align: middle;\n",
       "    }\n",
       "\n",
       "    .dataframe tbody tr th {\n",
       "        vertical-align: top;\n",
       "    }\n",
       "\n",
       "    .dataframe thead th {\n",
       "        text-align: right;\n",
       "    }\n",
       "</style>\n",
       "<table border=\"1\" class=\"dataframe\">\n",
       "  <thead>\n",
       "    <tr style=\"text-align: right;\">\n",
       "      <th></th>\n",
       "      <th>0</th>\n",
       "      <th>1</th>\n",
       "      <th>2</th>\n",
       "      <th>3</th>\n",
       "      <th>4</th>\n",
       "      <th>5</th>\n",
       "      <th>6</th>\n",
       "      <th>7</th>\n",
       "      <th>8</th>\n",
       "      <th>9</th>\n",
       "      <th>10</th>\n",
       "      <th>11</th>\n",
       "      <th>12</th>\n",
       "      <th>13</th>\n",
       "      <th>14</th>\n",
       "    </tr>\n",
       "  </thead>\n",
       "  <tbody>\n",
       "    <tr>\n",
       "      <th>0</th>\n",
       "      <td>39</td>\n",
       "      <td>State-gov</td>\n",
       "      <td>77516</td>\n",
       "      <td>Bachelors</td>\n",
       "      <td>13</td>\n",
       "      <td>Never-married</td>\n",
       "      <td>Adm-clerical</td>\n",
       "      <td>Not-in-family</td>\n",
       "      <td>White</td>\n",
       "      <td>Male</td>\n",
       "      <td>2174</td>\n",
       "      <td>0</td>\n",
       "      <td>40</td>\n",
       "      <td>United-States</td>\n",
       "      <td>&lt;=50K</td>\n",
       "    </tr>\n",
       "    <tr>\n",
       "      <th>1</th>\n",
       "      <td>50</td>\n",
       "      <td>Self-emp-not-inc</td>\n",
       "      <td>83311</td>\n",
       "      <td>Bachelors</td>\n",
       "      <td>13</td>\n",
       "      <td>Married-civ-spouse</td>\n",
       "      <td>Exec-managerial</td>\n",
       "      <td>Husband</td>\n",
       "      <td>White</td>\n",
       "      <td>Male</td>\n",
       "      <td>0</td>\n",
       "      <td>0</td>\n",
       "      <td>13</td>\n",
       "      <td>United-States</td>\n",
       "      <td>&lt;=50K</td>\n",
       "    </tr>\n",
       "    <tr>\n",
       "      <th>2</th>\n",
       "      <td>38</td>\n",
       "      <td>Private</td>\n",
       "      <td>215646</td>\n",
       "      <td>HS-grad</td>\n",
       "      <td>9</td>\n",
       "      <td>Divorced</td>\n",
       "      <td>Handlers-cleaners</td>\n",
       "      <td>Not-in-family</td>\n",
       "      <td>White</td>\n",
       "      <td>Male</td>\n",
       "      <td>0</td>\n",
       "      <td>0</td>\n",
       "      <td>40</td>\n",
       "      <td>United-States</td>\n",
       "      <td>&lt;=50K</td>\n",
       "    </tr>\n",
       "    <tr>\n",
       "      <th>3</th>\n",
       "      <td>53</td>\n",
       "      <td>Private</td>\n",
       "      <td>234721</td>\n",
       "      <td>11th</td>\n",
       "      <td>7</td>\n",
       "      <td>Married-civ-spouse</td>\n",
       "      <td>Handlers-cleaners</td>\n",
       "      <td>Husband</td>\n",
       "      <td>Black</td>\n",
       "      <td>Male</td>\n",
       "      <td>0</td>\n",
       "      <td>0</td>\n",
       "      <td>40</td>\n",
       "      <td>United-States</td>\n",
       "      <td>&lt;=50K</td>\n",
       "    </tr>\n",
       "    <tr>\n",
       "      <th>4</th>\n",
       "      <td>28</td>\n",
       "      <td>Private</td>\n",
       "      <td>338409</td>\n",
       "      <td>Bachelors</td>\n",
       "      <td>13</td>\n",
       "      <td>Married-civ-spouse</td>\n",
       "      <td>Prof-specialty</td>\n",
       "      <td>Wife</td>\n",
       "      <td>Black</td>\n",
       "      <td>Female</td>\n",
       "      <td>0</td>\n",
       "      <td>0</td>\n",
       "      <td>40</td>\n",
       "      <td>Cuba</td>\n",
       "      <td>&lt;=50K</td>\n",
       "    </tr>\n",
       "  </tbody>\n",
       "</table>\n",
       "</div>"
      ],
      "text/plain": [
       "   0                  1       2           3   4                    5   \\\n",
       "0  39          State-gov   77516   Bachelors  13        Never-married   \n",
       "1  50   Self-emp-not-inc   83311   Bachelors  13   Married-civ-spouse   \n",
       "2  38            Private  215646     HS-grad   9             Divorced   \n",
       "3  53            Private  234721        11th   7   Married-civ-spouse   \n",
       "4  28            Private  338409   Bachelors  13   Married-civ-spouse   \n",
       "\n",
       "                   6               7       8        9     10  11  12  \\\n",
       "0        Adm-clerical   Not-in-family   White     Male  2174   0  40   \n",
       "1     Exec-managerial         Husband   White     Male     0   0  13   \n",
       "2   Handlers-cleaners   Not-in-family   White     Male     0   0  40   \n",
       "3   Handlers-cleaners         Husband   Black     Male     0   0  40   \n",
       "4      Prof-specialty            Wife   Black   Female     0   0  40   \n",
       "\n",
       "               13      14  \n",
       "0   United-States   <=50K  \n",
       "1   United-States   <=50K  \n",
       "2   United-States   <=50K  \n",
       "3   United-States   <=50K  \n",
       "4            Cuba   <=50K  "
      ]
     },
     "execution_count": 2,
     "metadata": {},
     "output_type": "execute_result"
    }
   ],
   "source": [
    "#carregando o dataset, o parâmetro header foi implemanetado devido as colunas não possuirem titulo\n",
    "df = pd.read_csv(\"adult.csv\", sep = ',', header = None)\n",
    "df.head()"
   ]
  },
  {
   "cell_type": "code",
   "execution_count": 3,
   "id": "29a970b5",
   "metadata": {},
   "outputs": [
    {
     "data": {
      "text/plain": [
       "(32561, 15)"
      ]
     },
     "execution_count": 3,
     "metadata": {},
     "output_type": "execute_result"
    }
   ],
   "source": [
    "#Quantidade de linhas e colunas\n",
    "df.shape"
   ]
  },
  {
   "cell_type": "code",
   "execution_count": 4,
   "id": "141ac637",
   "metadata": {},
   "outputs": [
    {
     "data": {
      "text/html": [
       "<div>\n",
       "<style scoped>\n",
       "    .dataframe tbody tr th:only-of-type {\n",
       "        vertical-align: middle;\n",
       "    }\n",
       "\n",
       "    .dataframe tbody tr th {\n",
       "        vertical-align: top;\n",
       "    }\n",
       "\n",
       "    .dataframe thead th {\n",
       "        text-align: right;\n",
       "    }\n",
       "</style>\n",
       "<table border=\"1\" class=\"dataframe\">\n",
       "  <thead>\n",
       "    <tr style=\"text-align: right;\">\n",
       "      <th></th>\n",
       "      <th>Age</th>\n",
       "      <th>WorkClass</th>\n",
       "      <th>id</th>\n",
       "      <th>Education</th>\n",
       "      <th>EducationNum</th>\n",
       "      <th>MaritalStatus</th>\n",
       "      <th>Occupation</th>\n",
       "      <th>Relationship</th>\n",
       "      <th>Race</th>\n",
       "      <th>Sex</th>\n",
       "      <th>CapitalGain</th>\n",
       "      <th>CapitalLoss</th>\n",
       "      <th>HoursPerWeek</th>\n",
       "      <th>NativeCountry</th>\n",
       "      <th>Income</th>\n",
       "    </tr>\n",
       "  </thead>\n",
       "  <tbody>\n",
       "    <tr>\n",
       "      <th>0</th>\n",
       "      <td>39</td>\n",
       "      <td>State-gov</td>\n",
       "      <td>77516</td>\n",
       "      <td>Bachelors</td>\n",
       "      <td>13</td>\n",
       "      <td>Never-married</td>\n",
       "      <td>Adm-clerical</td>\n",
       "      <td>Not-in-family</td>\n",
       "      <td>White</td>\n",
       "      <td>Male</td>\n",
       "      <td>2174</td>\n",
       "      <td>0</td>\n",
       "      <td>40</td>\n",
       "      <td>United-States</td>\n",
       "      <td>&lt;=50K</td>\n",
       "    </tr>\n",
       "    <tr>\n",
       "      <th>1</th>\n",
       "      <td>50</td>\n",
       "      <td>Self-emp-not-inc</td>\n",
       "      <td>83311</td>\n",
       "      <td>Bachelors</td>\n",
       "      <td>13</td>\n",
       "      <td>Married-civ-spouse</td>\n",
       "      <td>Exec-managerial</td>\n",
       "      <td>Husband</td>\n",
       "      <td>White</td>\n",
       "      <td>Male</td>\n",
       "      <td>0</td>\n",
       "      <td>0</td>\n",
       "      <td>13</td>\n",
       "      <td>United-States</td>\n",
       "      <td>&lt;=50K</td>\n",
       "    </tr>\n",
       "    <tr>\n",
       "      <th>2</th>\n",
       "      <td>38</td>\n",
       "      <td>Private</td>\n",
       "      <td>215646</td>\n",
       "      <td>HS-grad</td>\n",
       "      <td>9</td>\n",
       "      <td>Divorced</td>\n",
       "      <td>Handlers-cleaners</td>\n",
       "      <td>Not-in-family</td>\n",
       "      <td>White</td>\n",
       "      <td>Male</td>\n",
       "      <td>0</td>\n",
       "      <td>0</td>\n",
       "      <td>40</td>\n",
       "      <td>United-States</td>\n",
       "      <td>&lt;=50K</td>\n",
       "    </tr>\n",
       "    <tr>\n",
       "      <th>3</th>\n",
       "      <td>53</td>\n",
       "      <td>Private</td>\n",
       "      <td>234721</td>\n",
       "      <td>11th</td>\n",
       "      <td>7</td>\n",
       "      <td>Married-civ-spouse</td>\n",
       "      <td>Handlers-cleaners</td>\n",
       "      <td>Husband</td>\n",
       "      <td>Black</td>\n",
       "      <td>Male</td>\n",
       "      <td>0</td>\n",
       "      <td>0</td>\n",
       "      <td>40</td>\n",
       "      <td>United-States</td>\n",
       "      <td>&lt;=50K</td>\n",
       "    </tr>\n",
       "    <tr>\n",
       "      <th>4</th>\n",
       "      <td>28</td>\n",
       "      <td>Private</td>\n",
       "      <td>338409</td>\n",
       "      <td>Bachelors</td>\n",
       "      <td>13</td>\n",
       "      <td>Married-civ-spouse</td>\n",
       "      <td>Prof-specialty</td>\n",
       "      <td>Wife</td>\n",
       "      <td>Black</td>\n",
       "      <td>Female</td>\n",
       "      <td>0</td>\n",
       "      <td>0</td>\n",
       "      <td>40</td>\n",
       "      <td>Cuba</td>\n",
       "      <td>&lt;=50K</td>\n",
       "    </tr>\n",
       "  </tbody>\n",
       "</table>\n",
       "</div>"
      ],
      "text/plain": [
       "   Age          WorkClass      id   Education  EducationNum  \\\n",
       "0   39          State-gov   77516   Bachelors            13   \n",
       "1   50   Self-emp-not-inc   83311   Bachelors            13   \n",
       "2   38            Private  215646     HS-grad             9   \n",
       "3   53            Private  234721        11th             7   \n",
       "4   28            Private  338409   Bachelors            13   \n",
       "\n",
       "         MaritalStatus          Occupation    Relationship    Race      Sex  \\\n",
       "0        Never-married        Adm-clerical   Not-in-family   White     Male   \n",
       "1   Married-civ-spouse     Exec-managerial         Husband   White     Male   \n",
       "2             Divorced   Handlers-cleaners   Not-in-family   White     Male   \n",
       "3   Married-civ-spouse   Handlers-cleaners         Husband   Black     Male   \n",
       "4   Married-civ-spouse      Prof-specialty            Wife   Black   Female   \n",
       "\n",
       "   CapitalGain  CapitalLoss  HoursPerWeek   NativeCountry  Income  \n",
       "0         2174            0            40   United-States   <=50K  \n",
       "1            0            0            13   United-States   <=50K  \n",
       "2            0            0            40   United-States   <=50K  \n",
       "3            0            0            40   United-States   <=50K  \n",
       "4            0            0            40            Cuba   <=50K  "
      ]
     },
     "execution_count": 4,
     "metadata": {},
     "output_type": "execute_result"
    }
   ],
   "source": [
    "#Alterando o nomes das colunas\n",
    "df.columns = ['Age', 'WorkClass', 'id', 'Education','EducationNum',\n",
    "              'MaritalStatus', 'Occupation', 'Relationship', 'Race', 'Sex',\n",
    "              'CapitalGain', 'CapitalLoss', 'HoursPerWeek', 'NativeCountry', 'Income']\n",
    "df.head()"
   ]
  },
  {
   "cell_type": "code",
   "execution_count": 5,
   "id": "84c4f50c",
   "metadata": {},
   "outputs": [
    {
     "data": {
      "text/plain": [
       "Age               int64\n",
       "WorkClass        object\n",
       "id                int64\n",
       "Education        object\n",
       "EducationNum      int64\n",
       "MaritalStatus    object\n",
       "Occupation       object\n",
       "Relationship     object\n",
       "Race             object\n",
       "Sex              object\n",
       "CapitalGain       int64\n",
       "CapitalLoss       int64\n",
       "HoursPerWeek      int64\n",
       "NativeCountry    object\n",
       "Income           object\n",
       "dtype: object"
      ]
     },
     "execution_count": 5,
     "metadata": {},
     "output_type": "execute_result"
    }
   ],
   "source": [
    "#verificando os tipos de dados\n",
    "df.dtypes"
   ]
  },
  {
   "cell_type": "code",
   "execution_count": 6,
   "id": "49648b6d",
   "metadata": {},
   "outputs": [
    {
     "data": {
      "text/plain": [
       "Age                 int64\n",
       "WorkClass          object\n",
       "id                  int64\n",
       "Education          object\n",
       "EducationNum        int64\n",
       "MaritalStatus      object\n",
       "Occupation         object\n",
       "Relationship       object\n",
       "Race               object\n",
       "Sex                object\n",
       "CapitalGain         int64\n",
       "CapitalLoss         int64\n",
       "HoursPerWeek        int64\n",
       "NativeCountry      object\n",
       "Income           category\n",
       "dtype: object"
      ]
     },
     "execution_count": 6,
     "metadata": {},
     "output_type": "execute_result"
    }
   ],
   "source": [
    "#convertendo a variável Income para fator \n",
    "df['Income'] = df['Income'].astype('category')\n",
    "df.dtypes"
   ]
  },
  {
   "cell_type": "code",
   "execution_count": 7,
   "id": "fab387b8",
   "metadata": {},
   "outputs": [
    {
     "data": {
      "text/plain": [
       "Age              0\n",
       "WorkClass        0\n",
       "id               0\n",
       "Education        0\n",
       "EducationNum     0\n",
       "MaritalStatus    0\n",
       "Occupation       0\n",
       "Relationship     0\n",
       "Race             0\n",
       "Sex              0\n",
       "CapitalGain      0\n",
       "CapitalLoss      0\n",
       "HoursPerWeek     0\n",
       "NativeCountry    0\n",
       "Income           0\n",
       "dtype: int64"
      ]
     },
     "execution_count": 7,
     "metadata": {},
     "output_type": "execute_result"
    }
   ],
   "source": [
    "#Consultando linhas com valores faltantes\n",
    "df.isnull().sum()"
   ]
  },
  {
   "cell_type": "markdown",
   "id": "71d69c6a",
   "metadata": {},
   "source": [
    "### Percebe-se que o banco não tem nenhuma linha vazia, mas quando estava fazendo as análises iniciais nas colunas percebi que na coluna 'WorkClass' tinham algumas linhas com \"?\" que pode ser considerada como um valor missing. Assim resolvi verificar as outras colunas."
   ]
  },
  {
   "cell_type": "code",
   "execution_count": 8,
   "id": "0ffcd55e",
   "metadata": {},
   "outputs": [
    {
     "name": "stdout",
     "output_type": "stream",
     "text": [
      "WorkClass\n",
      " ?                1836\n",
      " Federal-gov       960\n",
      " Local-gov        2093\n",
      " Never-worked        7\n",
      " Private         22696\n",
      "Name: id, dtype: int64\n",
      "Education\n",
      " 10th        933\n",
      " 11th       1175\n",
      " 12th        433\n",
      " 1st-4th     168\n",
      " 5th-6th     333\n",
      "Name: id, dtype: int64\n",
      "MaritalStatus\n",
      " Divorced                  4443\n",
      " Married-AF-spouse           23\n",
      " Married-civ-spouse       14976\n",
      " Married-spouse-absent      418\n",
      " Never-married            10683\n",
      "Name: id, dtype: int64\n",
      "Occupation\n",
      " ?                  1843\n",
      " Adm-clerical       3770\n",
      " Armed-Forces          9\n",
      " Craft-repair       4099\n",
      " Exec-managerial    4066\n",
      "Name: id, dtype: int64\n",
      "Relationship\n",
      " Husband           13193\n",
      " Not-in-family      8305\n",
      " Other-relative      981\n",
      " Own-child          5068\n",
      " Unmarried          3446\n",
      "Name: id, dtype: int64\n",
      "Race\n",
      " Amer-Indian-Eskimo      311\n",
      " Asian-Pac-Islander     1039\n",
      " Black                  3124\n",
      " Other                   271\n",
      " White                 27816\n",
      "Name: id, dtype: int64\n",
      "Sex\n",
      " Female    10771\n",
      " Male      21790\n",
      "Name: id, dtype: int64\n",
      "NativeCountry\n",
      " ?           583\n",
      " Cambodia     19\n",
      " Canada      121\n",
      " China        75\n",
      " Columbia     59\n",
      "Name: id, dtype: int64\n"
     ]
    }
   ],
   "source": [
    "#Verificar apenas as colunas do tipo object\n",
    "Columns = ['WorkClass', 'Education','MaritalStatus', 'Occupation', 'Relationship', \n",
    "           'Race', 'Sex', 'NativeCountry']\n",
    "for i in df[Columns]:\n",
    "\tprint(df.groupby(i)[\"id\"].count().head())"
   ]
  },
  {
   "cell_type": "markdown",
   "id": "a26244f0",
   "metadata": {},
   "source": [
    "### Foi detectado nas colunas \"WorkClass\", \"Occupation\" e \"NativeCountry\" a string \"?\", que estamos considerando como um valor missing."
   ]
  },
  {
   "cell_type": "code",
   "execution_count": 9,
   "id": "4b648782",
   "metadata": {},
   "outputs": [],
   "source": [
    "#Há maneira de tratamento escolhida nesse caso foi a substituição do sinal de ? por Unknown (desconhecido), e assim fica mais compreensivo as análises.\n",
    "\n",
    "df['WorkClass'] = df['WorkClass'].str.replace('?','Unknown', regex=True)\n",
    "df['Occupation'] = df['Occupation'].str.replace('?','Unknown', regex=True)\n",
    "df['NativeCountry'] = df['NativeCountry'].str.replace('?','Unknown', regex=True)"
   ]
  },
  {
   "cell_type": "markdown",
   "id": "3cef2fd7",
   "metadata": {},
   "source": [
    "### Feito o tratamento de dados, vamos para a análise exploratória de dados."
   ]
  },
  {
   "cell_type": "markdown",
   "id": "9a763e07",
   "metadata": {},
   "source": [
    "### Inicialmente , vamos traçar um perfil das pessoas que estão nesse censo"
   ]
  },
  {
   "cell_type": "code",
   "execution_count": 10,
   "id": "427bd0e7",
   "metadata": {},
   "outputs": [
    {
     "data": {
      "text/plain": [
       "count    32561.000000\n",
       "mean        38.581647\n",
       "std         13.640433\n",
       "min         17.000000\n",
       "25%         28.000000\n",
       "50%         37.000000\n",
       "75%         48.000000\n",
       "max         90.000000\n",
       "Name: Age, dtype: float64"
      ]
     },
     "execution_count": 10,
     "metadata": {},
     "output_type": "execute_result"
    }
   ],
   "source": [
    "#Na idade já percebe-se que a média desse censo é de aproximadamente 37 anos e que 75% das pessoas nesse banco tem idade infeior ou igual a 48 anos\n",
    "df['Age'].describe()"
   ]
  },
  {
   "cell_type": "code",
   "execution_count": 11,
   "id": "d40a23fd",
   "metadata": {},
   "outputs": [
    {
     "data": {
      "image/png": "[encoded data removed]",
      "text/plain": [
       "<Figure size 720x576 with 1 Axes>"
      ]
     },
     "metadata": {},
     "output_type": "display_data"
    }
   ],
   "source": [
    "# A maioria (mais de 50%) desse banco é composto por pessoas do sexo masculino \n",
    "\n",
    "fig, ax = plt.subplots(figsize=(10, 8))\n",
    "# Definindo a quantidade\n",
    "labels = df.Sex.value_counts().index\n",
    "\n",
    "# Gráfico de Pizza\n",
    "fatias, texto = plt.pie(df.Sex.value_counts(), colors = ('#342d71', '#446cb3'), startangle = 90)\n",
    "plt.legend(fatias, labels, bbox_to_anchor = (1.05,1))\n",
    "plt.title(\"Sexo\")\n",
    "plt.savefig('sexo.png', format='png')\n",
    "plt.show()"
   ]
  },
  {
   "cell_type": "code",
   "execution_count": 12,
   "id": "6ef8d3d0",
   "metadata": {},
   "outputs": [
    {
     "data": {
      "image/png": "[encoded data removed]",
      "text/plain": [
       "<Figure size 748.8x514.8 with 1 Axes>"
      ]
     },
     "metadata": {
      "needs_background": "light"
     },
     "output_type": "display_data"
    }
   ],
   "source": [
    "# A raça predominante é a branca com mais de 25 mil em um banco de dados que tem aproximadamente 33 mil observações.\n",
    "sns.countplot(x='Race', data=df)\n",
    "plt.savefig('race.png', format='png')"
   ]
  },
  {
   "cell_type": "code",
   "execution_count": 13,
   "id": "33f48133",
   "metadata": {},
   "outputs": [
    {
     "data": {
      "text/plain": [
       " United-States                 29170\n",
       " Mexico                          643\n",
       " Unknown                         583\n",
       " Philippines                     198\n",
       " Germany                         137\n",
       " Canada                          121\n",
       " Puerto-Rico                     114\n",
       " El-Salvador                     106\n",
       " India                           100\n",
       " Cuba                             95\n",
       " England                          90\n",
       " Jamaica                          81\n",
       " South                            80\n",
       " China                            75\n",
       " Italy                            73\n",
       " Dominican-Republic               70\n",
       " Vietnam                          67\n",
       " Guatemala                        64\n",
       " Japan                            62\n",
       " Poland                           60\n",
       " Columbia                         59\n",
       " Taiwan                           51\n",
       " Haiti                            44\n",
       " Iran                             43\n",
       " Portugal                         37\n",
       " Nicaragua                        34\n",
       " Peru                             31\n",
       " France                           29\n",
       " Greece                           29\n",
       " Ecuador                          28\n",
       " Ireland                          24\n",
       " Hong                             20\n",
       " Cambodia                         19\n",
       " Trinadad&Tobago                  19\n",
       " Laos                             18\n",
       " Thailand                         18\n",
       " Yugoslavia                       16\n",
       " Outlying-US(Guam-USVI-etc)       14\n",
       " Honduras                         13\n",
       " Hungary                          13\n",
       " Scotland                         12\n",
       " Holand-Netherlands                1\n",
       "Name: NativeCountry, dtype: int64"
      ]
     },
     "execution_count": 13,
     "metadata": {},
     "output_type": "execute_result"
    }
   ],
   "source": [
    "# O país de origem como esperado é predominante os Estados Unidos já que é um censo de lá e o segundo país mais frequente foi o Mexico\n",
    "df['NativeCountry'].value_counts()"
   ]
  },
  {
   "cell_type": "code",
   "execution_count": 14,
   "id": "90240c7a",
   "metadata": {},
   "outputs": [
    {
     "data": {
      "text/plain": [
       " <=50K    24720\n",
       " >50K      7841\n",
       "Name: Income, dtype: int64"
      ]
     },
     "execution_count": 14,
     "metadata": {},
     "output_type": "execute_result"
    }
   ],
   "source": [
    "# A renda menor ou igual a 50 mil apresentou uma frequencia maior \n",
    "df['Income'].value_counts()"
   ]
  },
  {
   "cell_type": "code",
   "execution_count": 15,
   "id": "6314a5c7",
   "metadata": {},
   "outputs": [
    {
     "data": {
      "text/plain": [
       "count    32561.000000\n",
       "mean        40.437456\n",
       "std         12.347429\n",
       "min          1.000000\n",
       "25%         40.000000\n",
       "50%         40.000000\n",
       "75%         45.000000\n",
       "max         99.000000\n",
       "Name: HoursPerWeek, dtype: float64"
      ]
     },
     "execution_count": 15,
     "metadata": {},
     "output_type": "execute_result"
    }
   ],
   "source": [
    "# Em média as pessoas desse censo trabalha 40 horas por semana, percebe-se também que maximo encontrado foi de 99 horas isso pode ser um outlier, vamos verificar mais a frente em um boxplot.\n",
    "df['HoursPerWeek'].describe()"
   ]
  },
  {
   "cell_type": "markdown",
   "id": "50a014d5",
   "metadata": {},
   "source": [
    "### Assim podemos definir que o perfil desse censo foi: Pessoas com uma idade média de 38 anos, predominantemente masculina e branca de origem norte americana, trabalha em média 40 horas por semana e sua maioria tem uma renda infeior ou igual a 50 mil dolares anual."
   ]
  },
  {
   "cell_type": "code",
   "execution_count": 16,
   "id": "6cd28c15",
   "metadata": {
    "scrolled": true
   },
   "outputs": [
    {
     "data": {
      "image/png": "[encoded data removed]",
      "text/plain": [
       "<Figure size 720x576 with 2 Axes>"
      ]
     },
     "metadata": {
      "needs_background": "light"
     },
     "output_type": "display_data"
    }
   ],
   "source": [
    "# Verificando as correlações das variáveis\n",
    "\n",
    "# foi criado um sub set apenas com as variáveis numericas para coletar suas correlações\n",
    "# A coluna Income foi transformada em uma nova coluna onde a renda maior que 50k virou 1 e a renda menor ou igual virou 0.\n",
    "sub_set = df.drop(columns =['id', 'WorkClass', 'Education','MaritalStatus', 'Occupation', 'Relationship', \n",
    "           'Race', 'Sex', 'NativeCountry'] )\n",
    "sub_set['Over50k'] = np.where(sub_set['Income'].str.contains('>50K'),1,0)\n",
    "sub_set = sub_set.drop(columns = ['Income'])\n",
    "df_corr = sub_set.corr()\n",
    "fig, ax = plt.subplots(figsize=(10, 8))\n",
    "sns.heatmap(df_corr, annot=True, annot_kws={\"size\": 12})\n",
    "plt.savefig('corplot.png', format='png')"
   ]
  },
  {
   "cell_type": "markdown",
   "id": "8d2f2f6d",
   "metadata": {},
   "source": [
    "### A correlação é uma medida importante, pois nela podemos ver a relação entre as variáveis e assim poder aplicar técnicas de inferência e até preditivas sobre essas variáveis. As correlações apresentadas foram relativamente baixas, a que apresentou a maior correlação foi a variável educationum com a \"Over50k\" podemos inferir que quanto maior o nível de educação da pessoa maior será sua renda anual."
   ]
  },
  {
   "cell_type": "code",
   "execution_count": 17,
   "id": "3befd16c",
   "metadata": {},
   "outputs": [
    {
     "data": {
      "image/png": "[encoded data removed]",
      "text/plain": [
       "<Figure size 720x576 with 1 Axes>"
      ]
     },
     "metadata": {
      "needs_background": "light"
     },
     "output_type": "display_data"
    }
   ],
   "source": [
    "# Analisando agora a idade das pessoas relacionada com a renda\n",
    "# Percebe-se a presença de alguns outliers, a mediana das pessoas com renda superior a 50k está acima da mediana com renda inferior ou igual a 50k.\n",
    "# Logo pessoas com idade mais avançada é o grupo das pessoas que apresentam renda supeior a 50 k\n",
    "fig, ax = plt.subplots(figsize=(10, 8))\n",
    "sns.boxplot( x=df[\"Income\"], y=df[\"Age\"] )\n",
    "plt.savefig('boxplot.png', format='png')"
   ]
  },
  {
   "cell_type": "code",
   "execution_count": 18,
   "id": "6be3a731",
   "metadata": {},
   "outputs": [
    {
     "data": {
      "image/png": "[encoded data removed]",
      "text/plain": [
       "<Figure size 720x576 with 1 Axes>"
      ]
     },
     "metadata": {
      "needs_background": "light"
     },
     "output_type": "display_data"
    }
   ],
   "source": [
    "# No gráfico acima observamos a presença de alguns outliers\n",
    "# Analisando o histograma das idades, percebe-se que a maioria está concentrada na população mais jovem e poucos com idade superior a 75 anos\n",
    "# O gráfico lembra um pouco a imagem de uma distruibuição qui-quadrado, pode ser que a variável idade siga essa distribuição\n",
    "\n",
    "# Gerando um histograma\n",
    "fig, ax = plt.subplots(figsize=(10, 8))\n",
    "df.Age.hist(bins = 60)\n",
    "plt.xlabel(\"Idade\")\n",
    "plt.ylabel(\"Número de Pessoas\")\n",
    "plt.title(\"Distribuição de Idade\")\n",
    "plt.savefig('hist.png', format='png')\n",
    "plt.show()"
   ]
  },
  {
   "cell_type": "code",
   "execution_count": 19,
   "id": "80cd74f5",
   "metadata": {},
   "outputs": [
    {
     "data": {
      "image/png": "[encoded data removed]",
      "text/plain": [
       "<Figure size 748.8x514.8 with 1 Axes>"
      ]
     },
     "metadata": {
      "needs_background": "light"
     },
     "output_type": "display_data"
    }
   ],
   "source": [
    "# Criando uma tabela com as proporções das variáveis educação e renda\n",
    "df3 = pd.crosstab(df.Education, \n",
    "                  df.Income).apply(lambda r: r/r.sum(), axis=1)\n",
    "# Gráfico de Barras (Stacked)\n",
    "ax1 = df3.plot(kind = \"barh\", stacked = True, color = ('#93faa5', '#2abb9b'), title = \"Renda por nivel de educação\")\n",
    "lines, labels = ax1.get_legend_handles_labels()\n",
    "ax1.legend(lines, labels, bbox_to_anchor = (1.51, 1))\n",
    "plt.savefig('educa.png', format='png')"
   ]
  },
  {
   "cell_type": "markdown",
   "id": "6d74a54d",
   "metadata": {},
   "source": [
    "### No heatmap vimos que educação e renda tinham uma correlação positiva, no Gráfico acima podemos ver a confirmação disso, onde pessoas com doutorado ou professores de escola foram que as maiores proporções com renda superior a 50 mil anuais."
   ]
  },
  {
   "cell_type": "code",
   "execution_count": 20,
   "id": "539eef2c",
   "metadata": {},
   "outputs": [
    {
     "data": {
      "image/png": "[encoded data removed]",
      "text/plain": [
       "<Figure size 748.8x514.8 with 1 Axes>"
      ]
     },
     "metadata": {
      "needs_background": "light"
     },
     "output_type": "display_data"
    }
   ],
   "source": [
    "# Criando um dataframe com uma coluna nova com a faixa etária das pessoas\n",
    "# Agrupando os dados\n",
    "df_ageranges = df.copy()\n",
    "bins=[0, 20, 30, 40, 50, 60, 100]\n",
    "\n",
    "df_ageranges['AgeRanges'] = pd.cut(df_ageranges['Age'], \n",
    "                                   bins, \n",
    "                                   labels=[\"< 20\", \"20-30\", \"30-40\", \"40-50\", \"50-60\", \"< 60\"]) \n",
    "\n",
    "df2 = pd.crosstab(df_ageranges.AgeRanges, \n",
    "                  df_ageranges.Income).apply(lambda r: r/r.sum(), axis=1)\n",
    "\n",
    "# Gráfico de Barras (Stacked)\n",
    "ax1 = df2.plot(kind = \"bar\", stacked = True, color = ('#93faa5', '#2abb9b'), title = \"Renda por idade\")\n",
    "lines, labels = ax1.get_legend_handles_labels()\n",
    "ax1.legend(lines, labels, bbox_to_anchor = (1.51, 1))\n",
    "plt.savefig('barrenda.png', format='png')"
   ]
  },
  {
   "cell_type": "markdown",
   "id": "173c3c6a",
   "metadata": {},
   "source": [
    "### No boxplot da idade por renda percebemos que pessoas mais velhas era o grupo que predominava as pessoas com renda superior a 50 k. Nesse gráfico de barras podemos ver que os grupos que apresentaram as maiores proporções de pessoas com renda acima de 50 mil anuais foram as pessoas com 40 a 50 anos e 50 a 60 anos "
   ]
  },
  {
   "cell_type": "code",
   "execution_count": 21,
   "id": "3effb4aa",
   "metadata": {},
   "outputs": [
    {
     "data": {
      "text/html": [
       "<div>\n",
       "<style scoped>\n",
       "    .dataframe tbody tr th:only-of-type {\n",
       "        vertical-align: middle;\n",
       "    }\n",
       "\n",
       "    .dataframe tbody tr th {\n",
       "        vertical-align: top;\n",
       "    }\n",
       "\n",
       "    .dataframe thead th {\n",
       "        text-align: right;\n",
       "    }\n",
       "</style>\n",
       "<table border=\"1\" class=\"dataframe\">\n",
       "  <thead>\n",
       "    <tr style=\"text-align: right;\">\n",
       "      <th></th>\n",
       "      <th>CapitalGain</th>\n",
       "    </tr>\n",
       "    <tr>\n",
       "      <th>Race</th>\n",
       "      <th></th>\n",
       "    </tr>\n",
       "  </thead>\n",
       "  <tbody>\n",
       "    <tr>\n",
       "      <th>Asian-Pac-Islander</th>\n",
       "      <td>1478.358037</td>\n",
       "    </tr>\n",
       "    <tr>\n",
       "      <th>White</th>\n",
       "      <td>1121.660375</td>\n",
       "    </tr>\n",
       "    <tr>\n",
       "      <th>Other</th>\n",
       "      <td>934.660517</td>\n",
       "    </tr>\n",
       "    <tr>\n",
       "      <th>Amer-Indian-Eskimo</th>\n",
       "      <td>625.266881</td>\n",
       "    </tr>\n",
       "    <tr>\n",
       "      <th>Black</th>\n",
       "      <td>609.940461</td>\n",
       "    </tr>\n",
       "  </tbody>\n",
       "</table>\n",
       "</div>"
      ],
      "text/plain": [
       "                     CapitalGain\n",
       "Race                            \n",
       " Asian-Pac-Islander  1478.358037\n",
       " White               1121.660375\n",
       " Other                934.660517\n",
       " Amer-Indian-Eskimo   625.266881\n",
       " Black                609.940461"
      ]
     },
     "execution_count": 21,
     "metadata": {},
     "output_type": "execute_result"
    }
   ],
   "source": [
    "#Criando uma tabela para obter a média de uma variável em relação a outra\n",
    "pivot = pd.pivot_table(df, index = 'Race', values = 'CapitalGain', aggfunc = 'mean')\n",
    "\n",
    "# Ordenando a tabela pelo CapitalGain\n",
    "pivot.sort_values('CapitalGain', ascending=False)"
   ]
  },
  {
   "cell_type": "markdown",
   "id": "e756a577",
   "metadata": {},
   "source": [
    "### Na tabela acima percebe-se que as maiores médias de capital ganho está entre as pessoas brancas e asiaticas, a média mais baixa é das pessoas negras"
   ]
  },
  {
   "cell_type": "markdown",
   "id": "bb8d7000",
   "metadata": {},
   "source": [
    "# Fim da análise exploratória"
   ]
  }
 ],
 "metadata": {
  "kernelspec": {
   "display_name": "Python 3 (ipykernel)",
   "language": "python",
   "name": "python3"
  },
  "language_info": {
   "codemirror_mode": {
    "name": "ipython",
    "version": 3
   },
   "file_extension": ".py",
   "mimetype": "text/x-python",
   "name": "python",
   "nbconvert_exporter": "python",
   "pygments_lexer": "ipython3",
   "version": "3.9.7"
  }
 },
 "nbformat": 4,
 "nbformat_minor": 5
}
